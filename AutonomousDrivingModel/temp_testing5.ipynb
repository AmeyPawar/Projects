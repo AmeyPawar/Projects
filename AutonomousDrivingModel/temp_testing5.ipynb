{
 "cells": [
  {
   "cell_type": "code",
   "execution_count": 1,
   "id": "a1216fd9",
   "metadata": {},
   "outputs": [],
   "source": [
    "# CARLA Model Testing Script with Prediction Logging\n",
    "\n",
    "import os\n",
    "import time\n",
    "import torch\n",
    "import torch.nn as nn\n",
    "from torchvision import transforms\n",
    "from PIL import Image\n",
    "import numpy as np\n",
    "import pandas as pd\n",
    "import carla"
   ]
  },
  {
   "cell_type": "code",
   "execution_count": 2,
   "id": "c81c9e8d",
   "metadata": {},
   "outputs": [],
   "source": [
    "# === Define Driving Model ===\n",
    "class DrivingModel(nn.Module):\n",
    "    def __init__(self):\n",
    "        super().__init__()\n",
    "        self.cnn = nn.Sequential(\n",
    "            nn.Conv2d(3, 24, 5, stride=2),\n",
    "            nn.ReLU(),\n",
    "            nn.Conv2d(24, 36, 5, stride=2),\n",
    "            nn.ReLU(),\n",
    "            nn.Conv2d(36, 64, 3),\n",
    "            nn.ReLU(),\n",
    "            nn.Flatten()\n",
    "        )\n",
    "        self.fc = nn.Sequential(\n",
    "            nn.Linear(64*51*51, 100),\n",
    "            nn.ReLU(),\n",
    "            nn.Linear(100, 3)\n",
    "        )\n",
    "\n",
    "    def forward(self, x):\n",
    "        return self.fc(self.cnn(x))\n"
   ]
  },
  {
   "cell_type": "code",
   "execution_count": 3,
   "id": "1ac8a545",
   "metadata": {},
   "outputs": [
    {
     "data": {
      "text/plain": [
       "DrivingModel(\n",
       "  (cnn): Sequential(\n",
       "    (0): Conv2d(3, 24, kernel_size=(5, 5), stride=(2, 2))\n",
       "    (1): ReLU()\n",
       "    (2): Conv2d(24, 36, kernel_size=(5, 5), stride=(2, 2))\n",
       "    (3): ReLU()\n",
       "    (4): Conv2d(36, 64, kernel_size=(3, 3), stride=(1, 1))\n",
       "    (5): ReLU()\n",
       "    (6): Flatten(start_dim=1, end_dim=-1)\n",
       "  )\n",
       "  (fc): Sequential(\n",
       "    (0): Linear(in_features=166464, out_features=100, bias=True)\n",
       "    (1): ReLU()\n",
       "    (2): Linear(in_features=100, out_features=3, bias=True)\n",
       "  )\n",
       ")"
      ]
     },
     "execution_count": 3,
     "metadata": {},
     "output_type": "execute_result"
    }
   ],
   "source": [
    "# === Setup Device and Model ===\n",
    "device = torch.device('cuda' if torch.cuda.is_available() else 'cpu')\n",
    "model = DrivingModel().to(device)\n",
    "model.load_state_dict(torch.load('driving_model.pth', map_location=device))\n",
    "model.eval()\n"
   ]
  },
  {
   "cell_type": "code",
   "execution_count": 4,
   "id": "06120c98",
   "metadata": {},
   "outputs": [],
   "source": [
    "# === Define Image Transform ===\n",
    "transform = transforms.Compose([\n",
    "    transforms.Resize((224, 224)),\n",
    "    transforms.ToTensor(),\n",
    "    transforms.Normalize(mean=[0.485, 0.456, 0.406],\n",
    "                         std=[0.229, 0.224, 0.225])\n",
    "])"
   ]
  },
  {
   "cell_type": "code",
   "execution_count": 5,
   "id": "5be3f228",
   "metadata": {},
   "outputs": [],
   "source": [
    "\n",
    "# === Connect to CARLA ===\n",
    "client = carla.Client('localhost', 2000)\n",
    "client.set_timeout(10.0)\n",
    "world = client.get_world()"
   ]
  },
  {
   "cell_type": "code",
   "execution_count": 6,
   "id": "eb1236d0",
   "metadata": {},
   "outputs": [],
   "source": [
    "\n",
    "# === Spawn Vehicle and Camera ===\n",
    "blueprint_lib = world.get_blueprint_library()\n",
    "vehicle_bp = blueprint_lib.filter('vehicle.*')[0]\n",
    "spawn_point = world.get_map().get_spawn_points()[0]\n",
    "vehicle = world.spawn_actor(vehicle_bp, spawn_point)\n",
    "\n",
    "camera_bp = blueprint_lib.find('sensor.camera.rgb')\n",
    "camera_bp.set_attribute('image_size_x', '640')\n",
    "camera_bp.set_attribute('image_size_y', '480')\n",
    "camera = world.spawn_actor(camera_bp, carla.Transform(carla.Location(x=1.5, z=2.4)), attach_to=vehicle)\n"
   ]
  },
  {
   "cell_type": "code",
   "execution_count": 7,
   "id": "a640ea07",
   "metadata": {},
   "outputs": [],
   "source": [
    "# === Define Image Processing Function ===\n",
    "def process_image(image):\n",
    "    array = np.frombuffer(image.raw_data, dtype=np.uint8).reshape((image.height, image.width, 4))[:, :, :3]\n",
    "    img = Image.fromarray(array).convert('RGB')\n",
    "    tensor = transform(img).unsqueeze(0).to(device)\n",
    "    return tensor"
   ]
  },
  {
   "cell_type": "code",
   "execution_count": 8,
   "id": "412e0b67",
   "metadata": {},
   "outputs": [],
   "source": [
    "# === Initialize Logging ===\n",
    "all_preds = []\n",
    "frame_count = 0\n",
    "MAX_FRAMES = 500"
   ]
  },
  {
   "cell_type": "code",
   "execution_count": 9,
   "id": "6c7fe83f",
   "metadata": {},
   "outputs": [],
   "source": [
    "# === Define Image Callback with Logging ===\n",
    "def image_callback(image):\n",
    "    global frame_count\n",
    "    if frame_count >= MAX_FRAMES:\n",
    "        camera.stop()\n",
    "        return\n",
    "\n",
    "    tensor = process_image(image)\n",
    "    with torch.no_grad():\n",
    "        controls = model(tensor).cpu().numpy()[0]\n",
    "\n",
    "    all_preds.append(controls.tolist())\n",
    "    frame_count += 1\n",
    "\n",
    "    vehicle.apply_control(carla.VehicleControl(\n",
    "        steer=float(np.clip(controls[0], -1, 1)),\n",
    "        throttle=float(np.clip(controls[1], 0, 1)),\n",
    "        brake=float(np.clip(controls[2], 0, 1))\n",
    "    ))"
   ]
  },
  {
   "cell_type": "code",
   "execution_count": 10,
   "id": "97932b5c",
   "metadata": {},
   "outputs": [],
   "source": [
    "# === Start Camera Stream ===\n",
    "camera.listen(image_callback)"
   ]
  },
  {
   "cell_type": "code",
   "execution_count": 11,
   "id": "ff568a22",
   "metadata": {},
   "outputs": [],
   "source": [
    "# === Wait for Completion ===\n",
    "while frame_count < MAX_FRAMES:\n",
    "    time.sleep(0.1)"
   ]
  },
  {
   "cell_type": "code",
   "execution_count": 12,
   "id": "64b38fee",
   "metadata": {},
   "outputs": [
    {
     "name": "stdout",
     "output_type": "stream",
     "text": [
      "Saved predictions to test_predictions.csv\n"
     ]
    }
   ],
   "source": [
    "# === Save Predictions ===\n",
    "df = pd.DataFrame(all_preds, columns=['steer', 'throttle', 'brake'])\n",
    "df.to_csv('test_predictions.csv', index=False)\n",
    "print(\"Saved predictions to test_predictions.csv\")\n"
   ]
  },
  {
   "cell_type": "code",
   "execution_count": 1,
   "id": "cf2f05d3",
   "metadata": {},
   "outputs": [
    {
     "name": "stdout",
     "output_type": "stream",
     "text": [
      "Saving to: c:\\Users\\TANMAY\\OneDrive\\Desktop\\Major project self driving\\New\n"
     ]
    }
   ],
   "source": [
    "import os\n",
    "print(\"Saving to:\", os.getcwd())\n"
   ]
  }
 ],
 "metadata": {
  "kernelspec": {
   "display_name": "carla-sim",
   "language": "python",
   "name": "python3"
  },
  "language_info": {
   "codemirror_mode": {
    "name": "ipython",
    "version": 3
   },
   "file_extension": ".py",
   "mimetype": "text/x-python",
   "name": "python",
   "nbconvert_exporter": "python",
   "pygments_lexer": "ipython3",
   "version": "3.7.16"
  }
 },
 "nbformat": 4,
 "nbformat_minor": 5
}
