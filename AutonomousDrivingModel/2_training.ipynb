{
 "cells": [
  {
   "cell_type": "code",
   "execution_count": 1,
   "id": "31a59187",
   "metadata": {},
   "outputs": [],
   "source": [
    "import os\n",
    "import cv2\n",
    "import pandas as pd\n",
    "import torch\n",
    "from torch.utils.data import Dataset, DataLoader\n",
    "from torchvision import transforms\n",
    "from PIL import Image\n",
    "\n",
    "class DrivingDataset(Dataset):\n",
    "    def __init__(self, images_dir, csv_file, transform=None):\n",
    "        self.images_dir = images_dir\n",
    "        self.data = pd.read_csv(csv_file)\n",
    "        self.transform = transform\n",
    "\n",
    "    def __len__(self):\n",
    "        return len(self.data)\n",
    "\n",
    "    def __getitem__(self, idx):\n",
    "        img_name = os.path.join(self.images_dir, f\"frame_{self.data.iloc[idx, 0]:05d}.png\")\n",
    "        image = Image.open(img_name).convert('RGB')\n",
    "        control = self.data.iloc[idx, 1:].values.astype('float32')  # [steering, throttle, brake]\n",
    "\n",
    "        if self.transform:\n",
    "            image = self.transform(image)\n",
    "\n",
    "        return image, torch.tensor(control, dtype=torch.float32)"
   ]
  },
  {
   "cell_type": "code",
   "execution_count": null,
   "id": "4e5e3c84",
   "metadata": {},
   "outputs": [],
   "source": [
    "import torch.nn as nn\n",
    "\n",
    "class DrivingModel(nn.Module):\n",
    "    def __init__(self):\n",
    "        super(DrivingModel, self).__init__()\n",
    "        \n",
    "        # CNN Layers (input: 3x224x224)\n",
    "        self.cnn = nn.Sequential(\n",
    "            nn.Conv2d(3, 24, kernel_size=5, stride=2),  # Output: 24x110x110\n",
    "            nn.ReLU(),\n",
    "            nn.Conv2d(24, 36, kernel_size=5, stride=2), # Output: 36x53x53\n",
    "            nn.ReLU(),\n",
    "            nn.Conv2d(36, 64, kernel_size=3, stride=1), # Output: 64x51x51\n",
    "            nn.ReLU(),\n",
    "            nn.Flatten()                                # Output: 64*51*51 = 166464\n",
    "        )\n",
    "        \n",
    "        # Fully Connected Layers\n",
    "        self.fc = nn.Sequential(\n",
    "            nn.Linear(166464, 100),\n",
    "            nn.ReLU(),\n",
    "            nn.Linear(100, 3)  # Output: [steering, throttle, brake]\n",
    "        )\n",
    "\n",
    "    def forward(self, x):\n",
    "        x = self.cnn(x)\n",
    "        x = self.fc(x)\n",
    "        return x"
   ]
  },
  {
   "cell_type": "code",
   "execution_count": 3,
   "id": "c9391e97",
   "metadata": {},
   "outputs": [],
   "source": [
    "class DrivingDataset(Dataset):\n",
    "    def __init__(self, images_dir, csv_file, transform=None):\n",
    "        self.images_dir = images_dir\n",
    "        self.data = pd.read_csv(csv_file)\n",
    "        self.transform = transform\n",
    "        self.valid_indices = [idx for idx in range(len(self.data)) \n",
    "                             if os.path.exists(self._get_image_path(idx))]\n",
    "\n",
    "    def _get_image_path(self, idx):\n",
    "        return os.path.join(self.images_dir, f\"frame_{self.data.iloc[idx, 0]:05d}.png\")\n",
    "\n",
    "    def __len__(self):\n",
    "        return len(self.valid_indices)\n",
    "\n",
    "    def __getitem__(self, idx):\n",
    "        actual_idx = self.valid_indices[idx]\n",
    "        img_path = self._get_image_path(actual_idx)\n",
    "        \n",
    "        try:\n",
    "            image = Image.open(img_path).convert('RGB')\n",
    "            control = self.data.iloc[actual_idx, 1:].values.astype('float32')\n",
    "            \n",
    "            if self.transform:\n",
    "                image = self.transform(image)\n",
    "                \n",
    "            return image, torch.tensor(control, dtype=torch.float32)\n",
    "        \n",
    "        except Exception as e:\n",
    "            print(f\"Skipping corrupted/missing file {img_path}: {e}\")\n",
    "            return None, None"
   ]
  },
  {
   "cell_type": "code",
   "execution_count": 4,
   "id": "bf743ce2",
   "metadata": {},
   "outputs": [
    {
     "name": "stdout",
     "output_type": "stream",
     "text": [
      "Epoch [1/10], Loss: 0.1569\n",
      "Epoch [2/10], Loss: 0.0614\n",
      "Epoch [3/10], Loss: 0.0433\n",
      "Epoch [4/10], Loss: 0.0323\n",
      "Epoch [5/10], Loss: 0.0240\n",
      "Epoch [6/10], Loss: 0.0191\n",
      "Epoch [7/10], Loss: 0.0155\n",
      "Epoch [8/10], Loss: 0.0129\n",
      "Epoch [9/10], Loss: 0.0109\n",
      "Epoch [10/10], Loss: 0.0096\n"
     ]
    },
    {
     "data": {
      "image/png": "[encoded data removed]",
      "text/plain": [
       "<Figure size 640x480 with 1 Axes>"
      ]
     },
     "metadata": {},
     "output_type": "display_data"
    },
    {
     "name": "stdout",
     "output_type": "stream",
     "text": [
      "Model saved as 'driving_model.pth'\n"
     ]
    }
   ],
   "source": [
    "import torch.optim as optim\n",
    "import matplotlib.pyplot as plt\n",
    "\n",
    "# Hyperparameters\n",
    "batch_size = 16\n",
    "epochs = 10\n",
    "learning_rate = 0.001\n",
    "\n",
    "# Paths (update these!)\n",
    "images_dir = r'C:\\Users\\TANMAY\\OneDrive\\Desktop\\Major project self driving\\New\\dataset\\images'\n",
    "csv_file = r'C:\\Users\\TANMAY\\OneDrive\\Desktop\\Major project self driving\\New\\dataset\\controls.csv'\n",
    "\n",
    "# Transformations\n",
    "transform = transforms.Compose([\n",
    "    transforms.Resize((224, 224)),\n",
    "    transforms.ToTensor(),\n",
    "    transforms.Normalize(mean=[0.485, 0.456, 0.406], std=[0.229, 0.224, 0.225])\n",
    "])\n",
    "\n",
    "# Initialize Dataset and DataLoader\n",
    "train_dataset = DrivingDataset(images_dir, csv_file, transform=transform)\n",
    "train_loader = DataLoader(train_dataset, batch_size=batch_size, shuffle=True)\n",
    "\n",
    "# Model, Loss, Optimizer\n",
    "device = torch.device('cuda' if torch.cuda.is_available() else 'cpu')\n",
    "model = DrivingModel().to(device)\n",
    "criterion = nn.MSELoss()\n",
    "optimizer = optim.Adam(model.parameters(), lr=learning_rate)\n",
    "\n",
    "# Training Loop\n",
    "train_loss = []\n",
    "for epoch in range(epochs):\n",
    "    epoch_loss = 0.0\n",
    "    for images, controls in train_loader:\n",
    "        images, controls = images.to(device), controls.to(device)\n",
    "        \n",
    "        optimizer.zero_grad()\n",
    "        outputs = model(images)\n",
    "        loss = criterion(outputs, controls)\n",
    "        loss.backward()\n",
    "        optimizer.step()\n",
    "        \n",
    "        epoch_loss += loss.item()\n",
    "\n",
    "    avg_loss = epoch_loss / len(train_loader)\n",
    "    train_loss.append(avg_loss)\n",
    "    print(f'Epoch [{epoch+1}/{epochs}], Loss: {avg_loss:.4f}')\n",
    "\n",
    "# Plot Training Curve\n",
    "plt.plot(train_loss)\n",
    "plt.xlabel('Epoch')\n",
    "plt.ylabel('Loss')\n",
    "plt.title('Training Loss Curve')\n",
    "plt.show()\n",
    "\n",
    "# Save Model\n",
    "torch.save(model.state_dict(), 'driving_model.pth')\n",
    "print(\"Model saved as 'driving_model.pth'\")"
   ]
  },
  {
   "cell_type": "code",
   "execution_count": 5,
   "id": "04b6da88",
   "metadata": {},
   "outputs": [
    {
     "name": "stdout",
     "output_type": "stream",
     "text": [
      "Predicted Controls: [[-0.36049765  0.7770216   0.05437278]]\n"
     ]
    }
   ],
   "source": [
    "# Load Saved Model\n",
    "model = DrivingModel().to(device)\n",
    "model.load_state_dict(torch.load('driving_model.pth'))\n",
    "model.eval()\n",
    "\n",
    "# Example Inference\n",
    "def predict_controls(image_path):\n",
    "    image = Image.open(image_path).convert('RGB')\n",
    "    image = transform(image).unsqueeze(0).to(device)  # Add batch dimension\n",
    "    with torch.no_grad():\n",
    "        controls = model(image)\n",
    "    return controls.cpu().numpy()  # [steering, throttle, brake]\n",
    "\n",
    "# Test on a sample image\n",
    "sample_image = os.path.join(images_dir, 'frame_00000.png')\n",
    "predicted_controls = predict_controls(sample_image)\n",
    "print(f\"Predicted Controls: {predicted_controls}\")"
   ]
  },
  {
   "cell_type": "code",
   "execution_count": null,
   "id": "7f7c92bf",
   "metadata": {},
   "outputs": [],
   "source": []
  }
 ],
 "metadata": {
  "kernelspec": {
   "display_name": "carla-sim",
   "language": "python",
   "name": "python3"
  },
  "language_info": {
   "codemirror_mode": {
    "name": "ipython",
    "version": 3
   },
   "file_extension": ".py",
   "mimetype": "text/x-python",
   "name": "python",
   "nbconvert_exporter": "python",
   "pygments_lexer": "ipython3",
   "version": "3.7.16"
  }
 },
 "nbformat": 4,
 "nbformat_minor": 5
}
