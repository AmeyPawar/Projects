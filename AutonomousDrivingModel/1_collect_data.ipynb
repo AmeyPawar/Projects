{
 "cells": [
  {
   "cell_type": "code",
   "execution_count": 2,
   "id": "5664c888",
   "metadata": {},
   "outputs": [],
   "source": [
    "import carla\n",
    "\n",
    "client = carla.Client('localhost', 2000)\n",
    "client.set_timeout(10.0)\n",
    "world = client.get_world()\n"
   ]
  },
  {
   "cell_type": "code",
   "execution_count": null,
   "id": "a83c70b5",
   "metadata": {},
   "outputs": [],
   "source": []
  },
  {
   "cell_type": "code",
   "execution_count": 2,
   "id": "981eec79",
   "metadata": {},
   "outputs": [],
   "source": [
    "blueprint_library = world.get_blueprint_library()\n",
    "vehicle_bp = blueprint_library.find('vehicle.nissan.patrol')\n",
    "spawn_point = world.get_map().get_spawn_points()[0]\n",
    "vehicle = world.spawn_actor(vehicle_bp, spawn_point)\n",
    "\n",
    "# Attach RGB camera\n",
    "camera_bp = blueprint_library.find('sensor.camera.rgb')\n",
    "camera_bp.set_attribute('image_size_x', '640')\n",
    "camera_bp.set_attribute('image_size_y', '480')\n",
    "camera_bp.set_attribute('fov', '110')\n",
    "\n",
    "camera_transform = carla.Transform(carla.Location(x=1.5, z=2.4))  # hood position\n",
    "camera = world.spawn_actor(camera_bp, camera_transform, attach_to=vehicle)\n"
   ]
  },
  {
   "cell_type": "code",
   "execution_count": 3,
   "id": "1eaf4997",
   "metadata": {},
   "outputs": [],
   "source": [
    "vehicle.set_autopilot(True)  # autopilot ON\n"
   ]
  },
  {
   "cell_type": "code",
   "execution_count": 4,
   "id": "9b0328cb",
   "metadata": {},
   "outputs": [],
   "source": [
    "import cv2\n",
    "import numpy as np\n",
    "import os\n",
    "import csv\n",
    "\n",
    "os.makedirs('dataset/images', exist_ok=True)\n",
    "control_data = open('dataset/controls.csv', mode='w', newline='')\n",
    "csv_writer = csv.writer(control_data)\n",
    "csv_writer.writerow(['frame', 'steering', 'throttle', 'brake'])\n",
    "\n",
    "frame_id = 0\n",
    "\n",
    "def process_image(image):\n",
    "    global frame_id\n",
    "    image_np = np.reshape(np.copy(image.raw_data), (image.height, image.width, 4))\n",
    "    image_rgb = image_np[:, :, :3]\n",
    "    \n",
    "    # Save image\n",
    "    image_filename = f'dataset/images/frame_{frame_id:05d}.png'\n",
    "    cv2.imwrite(image_filename, image_rgb)\n",
    "\n",
    "    # Get current vehicle control state\n",
    "    control = vehicle.get_control()\n",
    "    csv_writer.writerow([frame_id, control.steer, control.throttle, control.brake])\n",
    "    \n",
    "    frame_id += 1\n",
    "\n",
    "camera.listen(lambda image: process_image(image))\n"
   ]
  },
  {
   "cell_type": "code",
   "execution_count": 5,
   "id": "a5587164",
   "metadata": {},
   "outputs": [],
   "source": [
    "camera.stop()\n",
    "camera.destroy()\n",
    "vehicle.destroy()\n",
    "control_data.close()\n"
   ]
  }
 ],
 "metadata": {
  "kernelspec": {
   "display_name": "carla-sim",
   "language": "python",
   "name": "python3"
  },
  "language_info": {
   "codemirror_mode": {
    "name": "ipython",
    "version": 3
   },
   "file_extension": ".py",
   "mimetype": "text/x-python",
   "name": "python",
   "nbconvert_exporter": "python",
   "pygments_lexer": "ipython3",
   "version": "3.7.16"
  }
 },
 "nbformat": 4,
 "nbformat_minor": 5
}
